{
 "cells": [
  {
   "cell_type": "code",
   "execution_count": 1,
   "metadata": {},
   "outputs": [],
   "source": [
    "import pandas as pd\n",
    "def Process_Data(filename):\n",
    "    df = pd.read_csv(filename, header = None)\n",
    "    for index, row in df.iterrows():\n",
    "        head, sep, tail = str(row[0]).partition('http')\n",
    "        row[0] = head\n",
    "    df.to_csv(filename, index = False)"
   ]
  },
  {
   "cell_type": "code",
   "execution_count": 2,
   "metadata": {},
   "outputs": [],
   "source": [
    "Process_Data(\"Youtube/CAvideos_desc.csv\")\n",
    "Process_Data(\"Youtube/USvideos_desc.csv\")\n",
    "Process_Data(\"Youtube/DEvideos_desc.csv\")\n",
    "Process_Data(\"Youtube/FRvideos_desc.csv\")\n",
    "Process_Data(\"Youtube/GBvideos_desc.csv\")\n",
    "Process_Data(\"Youtube/INvideos_desc.csv\")\n",
    "Process_Data(\"Youtube/RUvideos_desc.csv\")\n",
    "Process_Data(\"Youtube/JPvideos_desc.csv\")\n",
    "Process_Data(\"Youtube/KRvideos_desc.csv\")\n",
    "Process_Data(\"Youtube/MXvideos_desc.csv\")"
   ]
  },
  {
   "cell_type": "code",
   "execution_count": null,
   "metadata": {},
   "outputs": [],
   "source": []
  }
 ],
 "metadata": {
  "kernelspec": {
   "display_name": "Python 3",
   "language": "python",
   "name": "python3"
  },
  "language_info": {
   "codemirror_mode": {
    "name": "ipython",
    "version": 3
   },
   "file_extension": ".py",
   "mimetype": "text/x-python",
   "name": "python",
   "nbconvert_exporter": "python",
   "pygments_lexer": "ipython3",
   "version": "3.7.1"
  }
 },
 "nbformat": 4,
 "nbformat_minor": 2
}

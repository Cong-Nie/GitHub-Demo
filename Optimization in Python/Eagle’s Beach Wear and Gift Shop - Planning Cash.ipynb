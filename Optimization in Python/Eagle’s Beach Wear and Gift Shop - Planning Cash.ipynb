{
 "cells": [
  {
   "cell_type": "markdown",
   "metadata": {},
   "source": [
    "# Multiperiod cash planning\n",
    "\n",
    "$$ \\text{Minimize   } 0.015\\sum_{i=1}^5 B_{i}-0.005\\sum_{i=1}^5 M_{i}+0.06s+\\sum_{i=1}^5 [(1/0.98-1)(D_{i}-A_{i})]\\\\\n",
    "s.t. \\\\\n",
    "\\text{End-of-month cash balance}: M_i \\ge 0.25,i=1,2,...,6\\\\\n",
    "\\text{Month 1}: 0.4+1.5+0.005*0.4+S+B_1=A1+0.01S++M_1\\\\\n",
    "\\text{Month 2}: M_1+1.0+0.005M1+B_2 = A2 +0.01S +1.015B_1 +(1.8-A1)/0.98 +M_2 \\\\\n",
    "\\text{Month 3}: M_2+1.4+0.005M2+B_3 = A3 +0.01S +1.015B_2 +(1.6-A2)/0.98 +M_3 \\\\\n",
    "\\text{Month 4}: M_3+2.3+0.005M3+B_4 = A4 +0.01S +1.015B_3 +(2.2-A3)/0.98 +M_4 \\\\\n",
    "\\text{Month 5}: M_4+2.0+0.005M4+B_5 = A5 +0.01S +1.015B_4 +(1.2-A4)/0.98 +M_5 \\\\\n",
    "\\text{Month 6}: M_5+1.0+0.005M5+B_6 = A6 +1.01S +1.015B_5 +(0.8-A5)/0.98 +M_6\\\\\n",
    "$$"
   ]
  },
  {
   "cell_type": "markdown",
   "metadata": {},
   "source": [
    "## Step 1: Import PuLP modeler functions"
   ]
  },
  {
   "cell_type": "code",
   "execution_count": 63,
   "metadata": {},
   "outputs": [],
   "source": [
    "from pulp import *\n",
    "import pandas as pd"
   ]
  },
  {
   "cell_type": "markdown",
   "metadata": {},
   "source": [
    "## Step 2.1: Use LpProblem, LpVariable to define LP problem and decision variables. "
   ]
  },
  {
   "cell_type": "code",
   "execution_count": 64,
   "metadata": {},
   "outputs": [
    {
     "name": "stdout",
     "output_type": "stream",
     "text": [
      "{1: d_1, 2: d_2, 3: d_3, 4: d_4, 5: d_5, 6: d_6}\n",
      "{1: b_1, 2: b_2, 3: b_3, 4: b_4, 5: b_5, 6: b_6}\n",
      "s\n",
      "{1: m_1, 2: m_2, 3: m_3, 4: m_4, 5: m_5, 6: m_6}\n"
     ]
    }
   ],
   "source": [
    "#define LP problem\n",
    "probA=LpProblem(\"Cash\",LpMinimize)\n",
    "\n",
    "#specify parameters\n",
    "month = list(range(1,7))\n",
    "receivable={\n",
    "1:1.5,\n",
    "2:1,\n",
    "3:1.4,\n",
    "4:2.3,\n",
    "5:2,\n",
    "6:1     \n",
    "}\n",
    "balance={\n",
    "1:1.8,\n",
    "2:1.6,\n",
    "3:2.2,\n",
    "4:1.2,\n",
    "5:0.8,\n",
    "6:1.2   \n",
    "}\n",
    "\n",
    "delay_rate=1/0.98\n",
    "\n",
    "min_balance=0.25\n",
    "init_balance=0.4\n",
    "\n",
    "\n",
    "# define decision variables\n",
    "delay_payment=LpVariable.dicts(\"d\",month,lowBound=0, cat='Continuous')\n",
    "borrow_against=LpVariable.dicts(\"b\",month,lowBound=0, cat='Continuous')\n",
    "short_term=LpVariable(\"s\",lowBound=0, cat='Continuous')\n",
    "m_vars=LpVariable.dicts(\"m\",month,lowBound=min_balance,cat='Continuous')\n",
    "print(delay_payment)\n",
    "print(borrow_against)\n",
    "print(short_term)\n",
    "print(m_vars)"
   ]
  },
  {
   "cell_type": "markdown",
   "metadata": {},
   "source": [
    "## Step 2.2:  Use +=, lpSum() to formulate the linear program model"
   ]
  },
  {
   "cell_type": "code",
   "execution_count": 65,
   "metadata": {},
   "outputs": [
    {
     "data": {
      "text/plain": [
       "Cash:\n",
       "MINIMIZE\n",
       "0.015*b_1 + 0.015*b_2 + 0.015*b_3 + 0.015*b_4 + 0.015*b_5 + 0.020408163265306145*d_1 + 0.020408163265306145*d_2 + 0.020408163265306145*d_3 + 0.020408163265306145*d_4 + 0.020408163265306145*d_5 + -0.005*m_1 + -0.005*m_2 + -0.005*m_3 + -0.005*m_4 + -0.005*m_5 + 0.060000000000000005*s + -0.002\n",
       "SUBJECT TO\n",
       "_C1: b_1 + d_1 - m_1 + 0.99 s = -0.102\n",
       "\n",
       "_C2: - 1.015 b_1 + b_2 - 1.02040816327 d_1 + d_2 + 1.005 m_1 - m_2 - 0.01 s\n",
       " = 0.6\n",
       "\n",
       "_C3: - 1.015 b_2 + b_3 - 1.02040816327 d_2 + d_3 + 1.005 m_2 - m_3 - 0.01 s\n",
       " = 0.8\n",
       "\n",
       "_C4: - 1.015 b_3 + b_4 - 1.02040816327 d_3 + d_4 + 1.005 m_3 - m_4 - 0.01 s\n",
       " = -1.1\n",
       "\n",
       "_C5: - 1.015 b_4 + b_5 - 1.02040816327 d_4 + d_5 + 1.005 m_4 - m_5 - 0.01 s\n",
       " = -1.2\n",
       "\n",
       "_C6: - 1.015 b_5 - 1.02040816327 d_5 + 1.005 m_5 - m_6 - 1.01 s = 0.2\n",
       "\n",
       "_C7: b_1 <= 1.125\n",
       "\n",
       "_C8: b_2 <= 0.75\n",
       "\n",
       "_C9: b_3 <= 1.05\n",
       "\n",
       "_C10: b_4 <= 1.725\n",
       "\n",
       "_C11: b_5 <= 1.5\n",
       "\n",
       "_C12: b_6 <= 0.75\n",
       "\n",
       "VARIABLES\n",
       "b_1 Continuous\n",
       "b_2 Continuous\n",
       "b_3 Continuous\n",
       "b_4 Continuous\n",
       "b_5 Continuous\n",
       "b_6 Continuous\n",
       "d_1 Continuous\n",
       "d_2 Continuous\n",
       "d_3 Continuous\n",
       "d_4 Continuous\n",
       "d_5 Continuous\n",
       "0.25 <= m_1 Continuous\n",
       "0.25 <= m_2 Continuous\n",
       "0.25 <= m_3 Continuous\n",
       "0.25 <= m_4 Continuous\n",
       "0.25 <= m_5 Continuous\n",
       "0.25 <= m_6 Continuous\n",
       "s Continuous"
      ]
     },
     "execution_count": 65,
     "metadata": {},
     "output_type": "execute_result"
    }
   ],
   "source": [
    "#objective function\n",
    "b_subtotal=[0]*7\n",
    "for i in range(2,7):\n",
    "    b_subtotal[i]=0.015*borrow_against[i-1]-0.005*m_vars[i-1]+0.01*short_term+(1/0.98-1)*\\\n",
    "    delay_payment[i-1]\n",
    "\n",
    "probA += lpSum([b_subtotal[i] for i in range(2,7)])-0.005*0.4+0.01*short_term\n",
    "\n",
    "#constraints\n",
    "\n",
    "# inflow-outflow balance constraints\n",
    "\n",
    "# month 1 inflow-outflow balance\n",
    "probA += init_balance+receivable[1]+0.005*init_balance+short_term+borrow_against[1]\\\n",
    "== balance[1]-delay_payment[1]+m_vars[1]+0.01*short_term\n",
    "# month 2 to month 6 inflow-outflow balance\n",
    "for i in range(2,6):\n",
    "    probA += m_vars[i-1]+receivable[i]+0.005*m_vars[i-1]+borrow_against[i]\\\n",
    "    == balance[i]-delay_payment[i]+0.01*short_term+1.015*borrow_against[i-1]+m_vars[i]\\\n",
    "    +delay_payment[i-1]*delay_rate\n",
    "# month 6 inflow-outflow balance    \n",
    "probA += m_vars[5]+receivable[6]+0.005*m_vars[5]\\\n",
    "== balance[6]+1.01*short_term+1.015*borrow_against[5]+m_vars[6]\\\n",
    "+delay_payment[5]*delay_rate\n",
    "# less than 75%\n",
    "for i in range(1,7):    \n",
    "    probA += borrow_against[i] <= receivable[i]*0.75\n",
    "delay_payment[6]=0\n",
    "borrow_against[6] = 0\n",
    "probA\n"
   ]
  },
  {
   "cell_type": "markdown",
   "metadata": {},
   "source": [
    "## Step 4: Run solver\n",
    "\n",
    "- use name.solve(solver=None), where name is the LP problem variable defined by LpProblem\n",
    "- Solve the given Lp problem. \n",
    "- This function changes the problem to make it suitable for solving then calls the solver.actualSolve method to find the solution. \n",
    "- solver – Optional: the specific solver to be used, defaults to the default solver."
   ]
  },
  {
   "cell_type": "code",
   "execution_count": 66,
   "metadata": {},
   "outputs": [
    {
     "name": "stdout",
     "output_type": "stream",
     "text": [
      "Status: Optimal\n"
     ]
    }
   ],
   "source": [
    "probA.writeLP(\"Planning_cash.lp\")\n",
    "probA.solve()\n",
    "print(\"Status:\",LpStatus[probA.status])"
   ]
  },
  {
   "cell_type": "markdown",
   "metadata": {},
   "source": [
    "## Step 5: Print the optiomal solution"
   ]
  },
  {
   "cell_type": "code",
   "execution_count": 67,
   "metadata": {},
   "outputs": [
    {
     "name": "stdout",
     "output_type": "stream",
     "text": [
      "b_1 = 0.0 \tReduced Cost = 0.010510671\n",
      "b_2 = 0.60024495 \tReduced Cost = -6.9388939e-18\n",
      "b_3 = 1.05 \tReduced Cost = 0.0\n",
      "b_4 = 0.33282513 \tReduced Cost = 3.469447e-18\n",
      "b_5 = 0.0 \tReduced Cost = 0.01\n",
      "b_6 = 0.0 \tReduced Cost = 0.0\n",
      "d_1 = 0.0 \tReduced Cost = 0.016224429\n",
      "d_2 = 0.0 \tReduced Cost = 0.0056293185\n",
      "d_3 = 0.35949357 \tReduced Cost = -3.469447e-18\n",
      "d_4 = 0.0 \tReduced Cost = 0.0054352041\n",
      "d_5 = 0.0 \tReduced Cost = 0.015408163\n",
      "m_1 = 0.25 \tReduced Cost = 5.4391549e-05\n",
      "m_2 = 0.25 \tReduced Cost = 0.010408929\n",
      "m_3 = 0.25 \tReduced Cost = 0.015717482\n",
      "m_4 = 0.25 \tReduced Cost = 0.01005\n",
      "m_5 = 1.1119375 \tReduced Cost = 0.0\n",
      "m_6 = 0.76650734 \tReduced Cost = 0.0\n",
      "s = 0.14949495 \tReduced Cost = 8.3280279e-18\n",
      "Total cost= 0.03349266416938776\n",
      "\n",
      "Sensitivity Analysis\n",
      "Constraint\t\t\t\t\tShadow Price\tSlack\n",
      "_C1 : b_1 + d_1 - m_1 + 0.99*s = -0.10199999999999987 \t 0.061843173 \t\t 1.249000902703301e-16\n",
      "_C2 : -1.015*b_1 + b_2 - 1.0204081632653061*d_1 + d_2 + 1.005*m_1 - m_2 - 0.01*s = 0.6000000000000001 \t 0.05650625 \t\t 1.1102230246251565e-16\n",
      "_C3 : -1.015*b_2 + b_3 - 1.0204081632653061*d_2 + d_3 + 1.005*m_2 - m_3 - 0.01*s = 0.8000000000000003 \t 0.040892857 \t\t 2.220446049250313e-16\n",
      "_C4 : -1.015*b_3 + b_4 - 1.0204081632653061*d_3 + d_4 + 1.005*m_3 - m_4 - 0.01*s = -1.0999999999999999 \t 0.020075 \t\t 2.220446049250313e-16\n",
      "_C5 : -1.015*b_4 + b_5 - 1.0204081632653061*d_4 + d_5 + 1.005*m_4 - m_5 - 0.01*s = -1.2 \t 0.005 \t\t -0.0\n",
      "_C6 : -1.015*b_5 - 1.0204081632653061*d_5 + 1.005*m_5 - m_6 - 1.01*s = 0.19999999999999996 \t 0.0 \t\t -5.551115123125783e-17\n",
      "_C7 : b_1 <= 1.125 \t 0.0 \t\t 1.125\n",
      "_C8 : b_2 <= 0.75 \t 0.0 \t\t 0.14975505\n",
      "_C9 : b_3 <= 1.0499999999999998 \t -0.0055167321 \t\t -2.220446049250313e-16\n",
      "_C10 : b_4 <= 1.7249999999999999 \t 0.0 \t\t 1.3921748699999998\n",
      "_C11 : b_5 <= 1.5 \t 0.0 \t\t 1.5\n",
      "_C12 : b_6 <= 0.75 \t 0.0 \t\t 0.75\n"
     ]
    }
   ],
   "source": [
    "for v in probA.variables():\n",
    "    print(v.name, \"=\", v.varValue,\"\\tReduced Cost =\", v.dj)\n",
    "    \n",
    "print(\"Total cost=\", value(probA.objective))\n",
    "\n",
    "# sensitivity analysis information\n",
    "print(\"\\nSensitivity Analysis\\nConstraint\\t\\t\\t\\t\\tShadow Price\\tSlack\")\n",
    "for name, c in list(probA.constraints.items()):\n",
    "    print(name, \":\", c, \"\\t\", c.pi, \"\\t\\t\", c.slack)"
   ]
  },
  {
   "cell_type": "markdown",
   "metadata": {},
   "source": [
    "## Step 6: Format Output"
   ]
  },
  {
   "cell_type": "markdown",
   "metadata": {},
   "source": [
    "## Format Shadow Price Output"
   ]
  },
  {
   "cell_type": "code",
   "execution_count": 68,
   "metadata": {},
   "outputs": [
    {
     "name": "stdout",
     "output_type": "stream",
     "text": [
      "[[0.0, 0.60024495, 1.05, 0.33282513, 0.0, 0], [0.0, 0.0, 0.35949357, 0.0, 0.0, 0], [0.14949495, 0, 0, 0, 0, 0], [0.25, 0.25, 0.25, 0.25, 1.1119375, 0.76650734]]\n",
      "Total cost= 0.03349266416938776\n"
     ]
    },
    {
     "data": {
      "text/html": [
       "<div>\n",
       "<style scoped>\n",
       "    .dataframe tbody tr th:only-of-type {\n",
       "        vertical-align: middle;\n",
       "    }\n",
       "\n",
       "    .dataframe tbody tr th {\n",
       "        vertical-align: top;\n",
       "    }\n",
       "\n",
       "    .dataframe thead th {\n",
       "        text-align: right;\n",
       "    }\n",
       "</style>\n",
       "<table border=\"1\" class=\"dataframe\">\n",
       "  <thead>\n",
       "    <tr style=\"text-align: right;\">\n",
       "      <th></th>\n",
       "      <th>Month 1</th>\n",
       "      <th>Month 2</th>\n",
       "      <th>Month 3</th>\n",
       "      <th>Month 4</th>\n",
       "      <th>Month 5</th>\n",
       "      <th>Month 6</th>\n",
       "    </tr>\n",
       "  </thead>\n",
       "  <tbody>\n",
       "    <tr>\n",
       "      <th>borrowagainst</th>\n",
       "      <td>0.000000</td>\n",
       "      <td>0.600245</td>\n",
       "      <td>1.050000</td>\n",
       "      <td>0.332825</td>\n",
       "      <td>0.000000</td>\n",
       "      <td>0.000000</td>\n",
       "    </tr>\n",
       "    <tr>\n",
       "      <th>delaypayment</th>\n",
       "      <td>0.000000</td>\n",
       "      <td>0.000000</td>\n",
       "      <td>0.359494</td>\n",
       "      <td>0.000000</td>\n",
       "      <td>0.000000</td>\n",
       "      <td>0.000000</td>\n",
       "    </tr>\n",
       "    <tr>\n",
       "      <th>shortterm</th>\n",
       "      <td>0.149495</td>\n",
       "      <td>0.000000</td>\n",
       "      <td>0.000000</td>\n",
       "      <td>0.000000</td>\n",
       "      <td>0.000000</td>\n",
       "      <td>0.000000</td>\n",
       "    </tr>\n",
       "    <tr>\n",
       "      <th>cashonhand</th>\n",
       "      <td>0.250000</td>\n",
       "      <td>0.250000</td>\n",
       "      <td>0.250000</td>\n",
       "      <td>0.250000</td>\n",
       "      <td>1.111938</td>\n",
       "      <td>0.766507</td>\n",
       "    </tr>\n",
       "  </tbody>\n",
       "</table>\n",
       "</div>"
      ],
      "text/plain": [
       "                Month 1   Month 2   Month 3   Month 4   Month 5   Month 6\n",
       "borrowagainst  0.000000  0.600245  1.050000  0.332825  0.000000  0.000000\n",
       "delaypayment   0.000000  0.000000  0.359494  0.000000  0.000000  0.000000\n",
       "shortterm      0.149495  0.000000  0.000000  0.000000  0.000000  0.000000\n",
       "cashonhand     0.250000  0.250000  0.250000  0.250000  1.111938  0.766507"
      ]
     },
     "execution_count": 68,
     "metadata": {},
     "output_type": "execute_result"
    }
   ],
   "source": [
    "output=[]\n",
    "\n",
    "borrowagainst = [borrow_against[i].varValue for i in range(1,6)]\n",
    "borrowagainst.extend([0])\n",
    "\n",
    "delaypayment = [delay_payment[i].varValue for i in range(1,6)]\n",
    "delaypayment.extend([0])\n",
    "\n",
    "shortterm = [short_term.varValue]\n",
    "shortterm.extend([0]*5)\n",
    "\n",
    "cashonhand = [m_vars[i].varValue for i in range(1,7)]\n",
    "\n",
    "output.append(borrowagainst)\n",
    "output.append(delaypayment)\n",
    "output.append(shortterm)\n",
    "output.append(cashonhand)\n",
    "print(output)  \n",
    "\n",
    "col_names=['Month 1', 'Month 2', 'Month 3', 'Month 4', 'Month 5', 'Month 6']\n",
    "row_names=['borrowagainst', 'delaypayment', 'shortterm', 'cashonhand']\n",
    "output_df = pd.DataFrame(output,index=row_names, columns=col_names)\n",
    "\n",
    "print(\"Total cost=\", value(probA.objective))\n",
    "output_df"
   ]
  }
 ],
 "metadata": {
  "kernelspec": {
   "display_name": "Python 3",
   "language": "python",
   "name": "python3"
  },
  "language_info": {
   "codemirror_mode": {
    "name": "ipython",
    "version": 3
   },
   "file_extension": ".py",
   "mimetype": "text/x-python",
   "name": "python",
   "nbconvert_exporter": "python",
   "pygments_lexer": "ipython3",
   "version": "3.7.3"
  }
 },
 "nbformat": 4,
 "nbformat_minor": 2
}

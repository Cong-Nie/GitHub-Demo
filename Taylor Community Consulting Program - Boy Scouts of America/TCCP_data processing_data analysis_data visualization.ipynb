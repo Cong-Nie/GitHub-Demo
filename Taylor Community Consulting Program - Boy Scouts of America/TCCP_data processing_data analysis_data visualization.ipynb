{
 "cells": [
  {
   "cell_type": "markdown",
   "metadata": {},
   "source": [
    "## Data Processing"
   ]
  },
  {
   "cell_type": "code",
   "execution_count": 1,
   "metadata": {},
   "outputs": [],
   "source": [
    "import pandas as pd\n",
    "import numpy as np\n",
    "from pandasql import sqldf\n",
    "from sklearn import preprocessing\n",
    "from sklearn.cluster import KMeans\n",
    "%matplotlib inline\n",
    "import matplotlib.pyplot as plt\n",
    "import seaborn\n",
    "import warnings\n",
    "warnings.filterwarnings('ignore')"
   ]
  },
  {
   "cell_type": "code",
   "execution_count": 2,
   "metadata": {},
   "outputs": [],
   "source": [
    "def normalize(col, df):\n",
    "    x = df[col].values.astype(float)\n",
    "    min_max_scaler = preprocessing.MinMaxScaler()\n",
    "    x_scaled = min_max_scaler.fit_transform(x)\n",
    "    \n",
    "    return pd.DataFrame(x_scaled, columns = col)\n",
    "\n",
    "def sumandtotal(x, col, df):\n",
    "    df[x + '_sum'] = df.sum(axis = 1)\n",
    "    df[x + '_total'] = len(col)\n",
    "    \n",
    "    return df   "
   ]
  },
  {
   "cell_type": "code",
   "execution_count": 3,
   "metadata": {},
   "outputs": [],
   "source": [
    "df = pd.read_excel('BSA_December 13, 2019_08.56.xlsx').iloc[1:, 5:].reset_index(drop = True)\n",
    "df1 = pd.read_excel('BSA - MTurk_December 13, 2019_18.48.xlsx').iloc[1:,:].reset_index(drop = True)\n",
    "df1 = df1.loc[df1['Finished'] == 'True',:]"
   ]
  },
  {
   "cell_type": "code",
   "execution_count": 7,
   "metadata": {},
   "outputs": [],
   "source": [
    "#dictionary\n",
    "num_p = {'Strongly disagree': 1, 'Disagree': 2, 'Somewhat disagree': 3, 'Neither agree nor disagree': 4,\\\n",
    "         'Somewhat agree': 5, 'Agree': 6, 'Strongly agree': 7}\n",
    "num_n = {'Strongly disagree': 7, 'Disagree': 6, 'Somewhat disagree': 5, 'Neither agree nor disagree': 4,\\\n",
    "         'Somewhat agree': 3, 'Agree': 2, 'Strongly agree': 1}\n",
    "c4 = {'Several times a week or more': 7, 'About once a week': 5.5, 'Several times a month': 4,\\\n",
    "      'About once a month': 2.5, 'Less than once a month': 1}\n",
    "c5 = {'Never had occasion to do this during the past year': 1, 'Once or twice': 2.5, 'About five times': 4,\\\n",
    "      'Six to 10 times': 5.5, 'More than 10 times': 7}\n",
    "c7 = {'Yes': 0, 'No': 1}\n",
    "c8 = {1: 7, 2: 6, 3: 5, 4: 4, 5: 3, 6: 2, 7: 1}\n",
    "f5 = {'Three or more times per week': 7, 'Twice per week': 5.5, 'Once per week': 4, 'Less than once per week': 2.5,\\\n",
    "      'Almost no exercise': 1}\n",
    "ct5 = {'Yes': 1, 'No': 0}\n",
    "ct10 = {'$1 - $20': 1, '$21 - $50': 1.86, '$51 - $100': 2.71, '$100 - $500': 3.57, '$501 - $1000': 4.43, \\\n",
    "        '$1001 - $5000': 5.29, '$5001 - $10000': 6.14, '$10001 and up': 7, 'Prefer not to disclose': 4}\n",
    "ct12 = {'0 - $9,999': 1, '$10,000 - $24,999': 1.67, '$25,000 - 49,999': 2.33, \\\n",
    "        '$50,000 - $74,999': 3, '$75,000 - $99,999': 3.67, '$100,000 - $124,999': 4.33, \\\n",
    "        '$125,000 - $149,999': 5, '$150,000 - $174,999': 5.67, '$175,000 - $199,999': 6.33, \\\n",
    "        '$200,000 and up': 7, 'Prefer not to answer': 4}\n",
    "ct13 = {'750 and above': 7, '700 - 749': 5.5, '650 - 699': 4, '550 - 649': 2.5, '549 and below': 1, 'I don’t know': 4}\n",
    "ct14 = {\"I didn't go to college\": 4, \"I went to college, but didn't take out student loans\": 4, \\\n",
    "        \"I'm still paying off my student loans\": 4, 'Within 10 years': 4, 'Within 5 years': 7, 'More than 10 years': 1}\n",
    "ct16 = {'Yes': 1, 'No': 0}\n",
    "bs3 = {'Yes': 1, 'No': 0}\n",
    "normalize = {1:0, 1.67:0.11, 1.86:0.14, 2:0.17, \\\n",
    "             2.33:0.22, 2.5:0.25, 2.71:0.29, \\\n",
    "             3:0.33, 3.57:0.43, 3.67:0.44, \\\n",
    "             4:0.50, 4.33: 0.56, 4.43:0.57, \\\n",
    "             5:0.67, 5.29: 0.71, 5.5:0.75, 5.67:0.78, \\\n",
    "             6:0.83, 6.14:0.86, 6.33:0.89, \\\n",
    "             7:1}"
   ]
  },
  {
   "cell_type": "code",
   "execution_count": 8,
   "metadata": {},
   "outputs": [],
   "source": [
    "#df\n",
    "#demo\n",
    "df['bs1'] = df['bs1'].fillna(0)\n",
    "df['bs2'] = df['bs2'].fillna(0).apply(lambda x: len(str(x).split(',')) if x != 0 else 0)\n",
    "df['bs3'] = df['bs3'].fillna('No').map(bs3)\n",
    "df['bs4_1'] = df['bs4_1'].fillna(0).apply(lambda x: str(x).split()[0])\n",
    "df_d = pd.concat([df['bs1'], df['bs2'], df['bs3'], df['bs4_1']], axis = 1)\n",
    "\n",
    "\n",
    "#leadership\n",
    "l = []\n",
    "for i in df.columns:\n",
    "    if 'l' in i:\n",
    "        l.append(i)\n",
    "l = l[3:]\n",
    "df_l = df[l]\n",
    "\n",
    "l_p = ['l1_1', 'l2_1', 'l2_4', 'l3_2', 'l3_3', 'l3_4', 'l4_1', 'l4_2', 'l4_3', 'l4_4']\n",
    "l_n = [i for i in l if i not in l_p]\n",
    "\n",
    "for i in l_p:\n",
    "    df_l[i] = df_l[i].map(num_p)\n",
    "for i in l_n:\n",
    "    df_l[i] = df_l[i].map(num_n)\n",
    "\n",
    "\n",
    "#character\n",
    "c = df.columns[71:97]\n",
    "c_split = ['c1_1', 'c8_1', 'c8_2', 'c8_3', 'c8_4', 'c8_5', 'c8_6', 'c9_1', 'c10_1']\n",
    "c_n = ['c2_3']\n",
    "c_o = ['c4', 'c5', 'c7']\n",
    "c_p = [i for i in c if (i not in c_n) & (i not in c_split) & (i not in c_o)]\n",
    "df_c = df[c]\n",
    "\n",
    "for i in c_split:\n",
    "    df_c[i] = df_c[i].apply(lambda x: int(x.split()[0]))\n",
    "\n",
    "for i in c_split[1:7]:\n",
    "    df_c[i] = df_c[i].map(c8)\n",
    "    \n",
    "for i in c_p:\n",
    "    df_c[i] = df_c[i].map(num_p)\n",
    "\n",
    "df_c['c2_3'] = df_c['c2_3'].map(num_n)\n",
    "df_c['c4'] = df_c['c4'].apply(lambda x: x.strip()).map(c4)\n",
    "df_c['c5'] = df_c['c5'].apply(lambda x: x.strip()).map(c5)\n",
    "df_c['c7'] = df_c['c7'].map(c7)\n",
    "\n",
    "\n",
    "#fitness\n",
    "f = df.columns[97:108]\n",
    "f_split = ['f4_1', 'f1_1']\n",
    "f_n = ['f2_1', 'f2_2']\n",
    "f_o = ['f5']\n",
    "f_p = [i for i in f if (i not in f_n) & (i not in f_split) & (i not in f_o)]\n",
    "df_f = df[f]\n",
    "\n",
    "for i in f_split:\n",
    "    df_f[i] = df_f[i].apply(lambda x: x.split()[0])\n",
    "    \n",
    "for i in f_p:\n",
    "    df_f[i] = df_f[i].map(num_p)\n",
    "    \n",
    "for i in f_n:\n",
    "    df_f[i] = df_f[i].map(num_n)\n",
    "\n",
    "df_f['f5'] = df_f['f5'].apply(lambda x: x.strip()).map(f5)\n",
    "\n",
    "\n",
    "#citizenship\n",
    "ct = df.columns[27:53]\n",
    "ct_o = ['ct12', 'ct13', 'ct14', 'ct16', 'ct4', 'ct5', 'ct6_1', 'ct10']\n",
    "ct_split = ['ct15_1', 'ct9_1']\n",
    "ct_p = [i for i in ct if (i not in ct_o) & (i not in ct_split)]\n",
    "df_ct = df[ct]\n",
    "\n",
    "for i in ct_split:\n",
    "    df_ct[i] = df_ct[i].apply(lambda x: x.split()[0])\n",
    "    \n",
    "for i in ct_p:\n",
    "    df_ct[i] = df_ct[i].map(num_p)\n",
    "\n",
    "df_ct['ct12'] = df_ct['ct12'].apply(lambda x: x.strip()).map(ct12) \n",
    "df_ct['ct13'] = df_ct['ct13'].apply(lambda x: x.strip()).map(ct13) \n",
    "df_ct['ct14'] = df_ct['ct14'].apply(lambda x: x.strip()).map(ct14) \n",
    "df_ct['ct16'] = df_ct['ct16'].map(ct16)    \n",
    "df_ct['ct10'] = df_ct['ct10'].apply(lambda x: x.strip()).map(ct10)    \n",
    "df_ct['ct5'] = df_ct['ct5'].map(ct5)   \n",
    "df_ct['ct6_1'] = df_ct['ct6_1'].apply(lambda x: 1 if int(x) == 0 else x)\n",
    "\n",
    "\n",
    "df_4 = pd.concat([df_ct, df_c, df_f, df_l, df_d, df['bs']], axis = 1)"
   ]
  },
  {
   "cell_type": "code",
   "execution_count": 9,
   "metadata": {},
   "outputs": [],
   "source": [
    "#df1\n",
    "#demo\n",
    "df1['bs1'] = df1['bs1'].fillna(0)\n",
    "df1['bs2'] = df1['bs2'].fillna(0).apply(lambda x: len(str(x).split(',')) if x != 0 else 0)\n",
    "df1['bs3'] = df1['bs3'].fillna('No').map(bs3)\n",
    "df1['bs4_1'] = df1['bs4_1'].fillna(0).apply(lambda x: str(x).split()[0])\n",
    "df1_d = pd.concat([df1['bs1'], df1['bs2'], df1['bs3'], df1['bs4_1']], axis = 1)\n",
    "\n",
    "\n",
    "#leadership\n",
    "df1_l = df1[l]\n",
    "\n",
    "for i in l_p:\n",
    "    df1_l[i] = df1_l[i].map(num_p)\n",
    "for i in l_n:\n",
    "    df1_l[i] = df1_l[i].map(num_n)\n",
    "    \n",
    "\n",
    "#character\n",
    "df1_c = df1[c]\n",
    "\n",
    "for i in c_split:\n",
    "    df1_c[i] = df1_c[i].apply(lambda x: x.split()[0])\n",
    "\n",
    "for i in c_p:\n",
    "    df1_c[i] = df1_c[i].map(num_p)\n",
    "\n",
    "df1_c['c2_3'] = df1_c['c2_3'].map(num_n)\n",
    "df1_c['c4'] = df1_c['c4'].apply(lambda x: x.strip()).map(c4)\n",
    "df1_c['c5'] = df1_c['c5'].apply(lambda x: x.strip()).map(c5)\n",
    "df1_c['c7'] = df1_c['c7'].map(c7)\n",
    "df1_c['c_total'] = df1_c.sum(axis = 1)\n",
    "df_c['ct_sum'] = df_c.sum(axis = 1)\n",
    "\n",
    "\n",
    "#fitness\n",
    "df1_f = df1[f]\n",
    "\n",
    "for i in f_split:\n",
    "    df1_f[i] = df1_f[i].apply(lambda x: x.split()[0])\n",
    "    \n",
    "for i in f_p:\n",
    "    df1_f[i] = df1_f[i].map(num_p)\n",
    "    \n",
    "for i in f_n:\n",
    "    df1_f[i] = df1_f[i].map(num_n)\n",
    "\n",
    "df1_f['f5'] = df1_f['f5'].apply(lambda x: x.strip()).map(f5)\n",
    "\n",
    "\n",
    "#citizenship\n",
    "df1_ct = df1[ct]\n",
    "\n",
    "for i in ct_split:\n",
    "    df1_ct[i] = df1_ct[i].apply(lambda x: x.split()[0])\n",
    "    \n",
    "for i in ct_p:\n",
    "    df1_ct[i] = df1_ct[i].map(num_p)\n",
    "\n",
    "df1_ct['ct12'] = df1_ct['ct12'].apply(lambda x: x.strip()).map(ct12) \n",
    "df1_ct['ct13'] = df1_ct['ct13'].apply(lambda x: x.strip()).map(ct13) \n",
    "df1_ct['ct14'] = df1_ct['ct14'].apply(lambda x: x.strip()).map(ct14) \n",
    "df1_ct['ct16'] = df1_ct['ct16'].map(ct16)    \n",
    "df1_ct['ct10'] = df1_ct['ct10'].apply(lambda x: x.strip()).map(ct10)    \n",
    "df1_ct['ct5'] = df1_ct['ct5'].map(ct5)    \n",
    "df1_ct['ct6_1'] = df1_ct['ct6_1'].apply(lambda x: 1 if int(x) == 0 else x)\n",
    "\n",
    "\n",
    "df1_4 = pd.concat([df1_ct, df1_c, df1_f, df1_l, df1_d, df1['bs']], axis = 1)"
   ]
  },
  {
   "cell_type": "code",
   "execution_count": 14,
   "metadata": {},
   "outputs": [],
   "source": [
    "df4 = pd.concat([df_4, df1_4], axis = 0).reset_index(drop = True)"
   ]
  },
  {
   "cell_type": "code",
   "execution_count": 15,
   "metadata": {},
   "outputs": [],
   "source": [
    "for i in df4.columns[5:]:\n",
    "    df4[i] = df4[i].apply(lambda x: float(x)).map(normalize)"
   ]
  },
  {
   "cell_type": "code",
   "execution_count": 16,
   "metadata": {},
   "outputs": [],
   "source": [
    "df4['l_total'] = len(l)\n",
    "df4['c_total'] = len(c)\n",
    "df4['ct_total'] = len(ct)\n",
    "df4['f_total'] = len(f)"
   ]
  },
  {
   "cell_type": "code",
   "execution_count": 17,
   "metadata": {},
   "outputs": [],
   "source": [
    "df4['l_sum'] = df4[l].sum(axis=1)\n",
    "df4['c_sum'] = df4[c].sum(axis=1)\n",
    "df4['ct_sum'] = df4[ct].sum(axis=1)\n",
    "df4['f_sum'] = df4[f].sum(axis=1)\n",
    "df4['total'] = df4['l_sum'] + df4['c_sum'] + df4['ct_sum'] + df4['f_sum']"
   ]
  },
  {
   "cell_type": "code",
   "execution_count": 18,
   "metadata": {},
   "outputs": [],
   "source": [
    "df4.to_csv('df4.csv',index=False)"
   ]
  },
  {
   "cell_type": "markdown",
   "metadata": {},
   "source": [
    "## Clustering"
   ]
  },
  {
   "cell_type": "code",
   "execution_count": 19,
   "metadata": {},
   "outputs": [],
   "source": [
    "df4['l_sum'] = df4['l_sum'].apply(lambda x: x*25/18)\n",
    "df4['f_sum'] = df4['f_sum'].apply(lambda x: x*25/11)\n",
    "df4['c_sum'] = df4['c_sum'].apply(lambda x: x*25/26)\n",
    "df4['ct_sum'] = df4['ct_sum'].apply(lambda x: x*25/26)\n",
    "df4['total'] = df4['l_sum'] + df4['f_sum'] + df4['c_sum'] + df4['ct_sum']"
   ]
  },
  {
   "cell_type": "code",
   "execution_count": 20,
   "metadata": {},
   "outputs": [
    {
     "data": {
      "text/html": [
       "<div>\n",
       "<style scoped>\n",
       "    .dataframe tbody tr th:only-of-type {\n",
       "        vertical-align: middle;\n",
       "    }\n",
       "\n",
       "    .dataframe tbody tr th {\n",
       "        vertical-align: top;\n",
       "    }\n",
       "\n",
       "    .dataframe thead th {\n",
       "        text-align: right;\n",
       "    }\n",
       "</style>\n",
       "<table border=\"1\" class=\"dataframe\">\n",
       "  <thead>\n",
       "    <tr style=\"text-align: right;\">\n",
       "      <th></th>\n",
       "      <th>bs</th>\n",
       "      <th>bs1</th>\n",
       "      <th>bs2</th>\n",
       "      <th>bs3</th>\n",
       "      <th>bs4_1</th>\n",
       "      <th>c10_1</th>\n",
       "      <th>c1_1</th>\n",
       "      <th>c2_1</th>\n",
       "      <th>c2_2</th>\n",
       "      <th>c2_3</th>\n",
       "      <th>...</th>\n",
       "      <th>l4_3</th>\n",
       "      <th>l4_4</th>\n",
       "      <th>l_total</th>\n",
       "      <th>ct_total</th>\n",
       "      <th>f_total</th>\n",
       "      <th>l_sum</th>\n",
       "      <th>c_sum</th>\n",
       "      <th>ct_sum</th>\n",
       "      <th>f_sum</th>\n",
       "      <th>total</th>\n",
       "    </tr>\n",
       "  </thead>\n",
       "  <tbody>\n",
       "    <tr>\n",
       "      <th>0</th>\n",
       "      <td>0</td>\n",
       "      <td>0</td>\n",
       "      <td>0</td>\n",
       "      <td>0</td>\n",
       "      <td>0</td>\n",
       "      <td>0.67</td>\n",
       "      <td>0.67</td>\n",
       "      <td>0.67</td>\n",
       "      <td>0.50</td>\n",
       "      <td>0.83</td>\n",
       "      <td>...</td>\n",
       "      <td>0.50</td>\n",
       "      <td>0.67</td>\n",
       "      <td>18</td>\n",
       "      <td>26</td>\n",
       "      <td>11</td>\n",
       "      <td>17.333333</td>\n",
       "      <td>18.500000</td>\n",
       "      <td>12.182692</td>\n",
       "      <td>14.204545</td>\n",
       "      <td>62.220571</td>\n",
       "    </tr>\n",
       "    <tr>\n",
       "      <th>1</th>\n",
       "      <td>1</td>\n",
       "      <td>10</td>\n",
       "      <td>1</td>\n",
       "      <td>0</td>\n",
       "      <td>5</td>\n",
       "      <td>0.67</td>\n",
       "      <td>0.67</td>\n",
       "      <td>1.00</td>\n",
       "      <td>0.50</td>\n",
       "      <td>0.83</td>\n",
       "      <td>...</td>\n",
       "      <td>0.83</td>\n",
       "      <td>1.00</td>\n",
       "      <td>18</td>\n",
       "      <td>26</td>\n",
       "      <td>11</td>\n",
       "      <td>20.347222</td>\n",
       "      <td>20.346154</td>\n",
       "      <td>18.682692</td>\n",
       "      <td>16.477273</td>\n",
       "      <td>75.853341</td>\n",
       "    </tr>\n",
       "    <tr>\n",
       "      <th>2</th>\n",
       "      <td>1</td>\n",
       "      <td>4</td>\n",
       "      <td>1</td>\n",
       "      <td>0</td>\n",
       "      <td>4</td>\n",
       "      <td>1.00</td>\n",
       "      <td>0.50</td>\n",
       "      <td>0.83</td>\n",
       "      <td>0.33</td>\n",
       "      <td>0.67</td>\n",
       "      <td>...</td>\n",
       "      <td>0.83</td>\n",
       "      <td>0.67</td>\n",
       "      <td>18</td>\n",
       "      <td>26</td>\n",
       "      <td>11</td>\n",
       "      <td>16.694444</td>\n",
       "      <td>20.644231</td>\n",
       "      <td>19.855769</td>\n",
       "      <td>14.772727</td>\n",
       "      <td>71.967172</td>\n",
       "    </tr>\n",
       "    <tr>\n",
       "      <th>3</th>\n",
       "      <td>1</td>\n",
       "      <td>8</td>\n",
       "      <td>1</td>\n",
       "      <td>1</td>\n",
       "      <td>5</td>\n",
       "      <td>0.67</td>\n",
       "      <td>0.83</td>\n",
       "      <td>1.00</td>\n",
       "      <td>0.83</td>\n",
       "      <td>0.83</td>\n",
       "      <td>...</td>\n",
       "      <td>0.83</td>\n",
       "      <td>1.00</td>\n",
       "      <td>18</td>\n",
       "      <td>26</td>\n",
       "      <td>11</td>\n",
       "      <td>16.638889</td>\n",
       "      <td>19.778846</td>\n",
       "      <td>18.086538</td>\n",
       "      <td>18.727273</td>\n",
       "      <td>73.231546</td>\n",
       "    </tr>\n",
       "    <tr>\n",
       "      <th>4</th>\n",
       "      <td>0</td>\n",
       "      <td>0</td>\n",
       "      <td>0</td>\n",
       "      <td>0</td>\n",
       "      <td>0</td>\n",
       "      <td>1.00</td>\n",
       "      <td>1.00</td>\n",
       "      <td>1.00</td>\n",
       "      <td>1.00</td>\n",
       "      <td>1.00</td>\n",
       "      <td>...</td>\n",
       "      <td>1.00</td>\n",
       "      <td>1.00</td>\n",
       "      <td>18</td>\n",
       "      <td>26</td>\n",
       "      <td>11</td>\n",
       "      <td>20.361111</td>\n",
       "      <td>23.067308</td>\n",
       "      <td>4.519231</td>\n",
       "      <td>22.727273</td>\n",
       "      <td>70.674922</td>\n",
       "    </tr>\n",
       "  </tbody>\n",
       "</table>\n",
       "<p>5 rows × 95 columns</p>\n",
       "</div>"
      ],
      "text/plain": [
       "  bs  bs1  bs2  bs3 bs4_1  c10_1  c1_1  c2_1  c2_2  c2_3    ...      l4_3  \\\n",
       "0  0    0    0    0     0   0.67  0.67  0.67  0.50  0.83    ...      0.50   \n",
       "1  1   10    1    0     5   0.67  0.67  1.00  0.50  0.83    ...      0.83   \n",
       "2  1    4    1    0     4   1.00  0.50  0.83  0.33  0.67    ...      0.83   \n",
       "3  1    8    1    1     5   0.67  0.83  1.00  0.83  0.83    ...      0.83   \n",
       "4  0    0    0    0     0   1.00  1.00  1.00  1.00  1.00    ...      1.00   \n",
       "\n",
       "   l4_4  l_total  ct_total  f_total      l_sum      c_sum     ct_sum  \\\n",
       "0  0.67       18        26       11  17.333333  18.500000  12.182692   \n",
       "1  1.00       18        26       11  20.347222  20.346154  18.682692   \n",
       "2  0.67       18        26       11  16.694444  20.644231  19.855769   \n",
       "3  1.00       18        26       11  16.638889  19.778846  18.086538   \n",
       "4  1.00       18        26       11  20.361111  23.067308   4.519231   \n",
       "\n",
       "       f_sum      total  \n",
       "0  14.204545  62.220571  \n",
       "1  16.477273  75.853341  \n",
       "2  14.772727  71.967172  \n",
       "3  18.727273  73.231546  \n",
       "4  22.727273  70.674922  \n",
       "\n",
       "[5 rows x 95 columns]"
      ]
     },
     "execution_count": 20,
     "metadata": {},
     "output_type": "execute_result"
    }
   ],
   "source": [
    "df4.head()"
   ]
  },
  {
   "cell_type": "code",
   "execution_count": 21,
   "metadata": {},
   "outputs": [
    {
     "data": {
      "text/plain": [
       "l_sum     15.878535\n",
       "c_sum     18.308566\n",
       "ct_sum    16.109965\n",
       "f_sum     18.514050\n",
       "total     68.811116\n",
       "dtype: float64"
      ]
     },
     "execution_count": 21,
     "metadata": {},
     "output_type": "execute_result"
    }
   ],
   "source": [
    "df0 = df4[['l_sum','c_sum','ct_sum','f_sum','total','bs1','bs2','bs3','bs4_1','bs']]\n",
    "\n",
    "avg = df0.loc[df0['bs']=='1',['l_sum','c_sum','ct_sum','f_sum','total']].mean()\n",
    "avg"
   ]
  },
  {
   "cell_type": "code",
   "execution_count": 22,
   "metadata": {},
   "outputs": [
    {
     "data": {
      "text/html": [
       "<div>\n",
       "<style scoped>\n",
       "    .dataframe tbody tr th:only-of-type {\n",
       "        vertical-align: middle;\n",
       "    }\n",
       "\n",
       "    .dataframe tbody tr th {\n",
       "        vertical-align: top;\n",
       "    }\n",
       "\n",
       "    .dataframe thead th {\n",
       "        text-align: right;\n",
       "    }\n",
       "</style>\n",
       "<table border=\"1\" class=\"dataframe\">\n",
       "  <thead>\n",
       "    <tr style=\"text-align: right;\">\n",
       "      <th>bs</th>\n",
       "      <th>0</th>\n",
       "      <th>1</th>\n",
       "      <th>%</th>\n",
       "    </tr>\n",
       "  </thead>\n",
       "  <tbody>\n",
       "    <tr>\n",
       "      <th>l_sum</th>\n",
       "      <td>15.344444</td>\n",
       "      <td>15.878535</td>\n",
       "      <td>0.034807</td>\n",
       "    </tr>\n",
       "    <tr>\n",
       "      <th>c_sum</th>\n",
       "      <td>14.851282</td>\n",
       "      <td>18.308566</td>\n",
       "      <td>0.232794</td>\n",
       "    </tr>\n",
       "    <tr>\n",
       "      <th>ct_sum</th>\n",
       "      <td>12.994231</td>\n",
       "      <td>16.109965</td>\n",
       "      <td>0.239778</td>\n",
       "    </tr>\n",
       "    <tr>\n",
       "      <th>f_sum</th>\n",
       "      <td>17.244949</td>\n",
       "      <td>18.514050</td>\n",
       "      <td>0.073593</td>\n",
       "    </tr>\n",
       "    <tr>\n",
       "      <th>total</th>\n",
       "      <td>60.434907</td>\n",
       "      <td>68.811116</td>\n",
       "      <td>0.138599</td>\n",
       "    </tr>\n",
       "  </tbody>\n",
       "</table>\n",
       "</div>"
      ],
      "text/plain": [
       "bs              0          1         %\n",
       "l_sum   15.344444  15.878535  0.034807\n",
       "c_sum   14.851282  18.308566  0.232794\n",
       "ct_sum  12.994231  16.109965  0.239778\n",
       "f_sum   17.244949  18.514050  0.073593\n",
       "total   60.434907  68.811116  0.138599"
      ]
     },
     "execution_count": 22,
     "metadata": {},
     "output_type": "execute_result"
    }
   ],
   "source": [
    "a = df0.groupby('bs')['l_sum','c_sum','ct_sum','f_sum','total'].mean().T\n",
    "a['%'] = (a['1']-a['0'])/a['0']\n",
    "a"
   ]
  },
  {
   "cell_type": "code",
   "execution_count": 23,
   "metadata": {},
   "outputs": [],
   "source": [
    "l = df0.loc[df0['bs']=='1',['l_sum','bs1']]\n",
    "c = df0.loc[df0['bs']=='1',['c_sum','bs1']]\n",
    "ct = df0.loc[df0['bs']=='1',['ct_sum','bs1']]\n",
    "f = df0.loc[df0['bs']=='1',['f_sum','bs1']]\n",
    "t = df0.loc[df0['bs']=='1',['total','bs1']]"
   ]
  },
  {
   "cell_type": "code",
   "execution_count": 24,
   "metadata": {},
   "outputs": [],
   "source": [
    "plt.style.use('ggplot')"
   ]
  },
  {
   "cell_type": "code",
   "execution_count": 25,
   "metadata": {},
   "outputs": [
    {
     "data": {
      "text/plain": [
       "<matplotlib.legend.Legend at 0x1a1b1678d0>"
      ]
     },
     "execution_count": 25,
     "metadata": {},
     "output_type": "execute_result"
    },
    {
     "data": {
      "image/png": "[encoded data removed]",
      "text/plain": [
       "<Figure size 432x288 with 1 Axes>"
      ]
     },
     "metadata": {},
     "output_type": "display_data"
    }
   ],
   "source": [
    "fig, ax = plt.subplots()\n",
    "plt.scatter(l['bs1'], l['l_sum'], alpha=0.5)\n",
    "plt.axhline(y=avg[0], color='g', linestyle='-')\n",
    "plt.ylim(5, 25)\n",
    "plt.xlim(-1, 30)\n",
    "labels = [\"Average of Non-Boy Scouts\"]\n",
    "ax.set_xlabel('# of years in Boy Scouts')\n",
    "ax.set_ylabel('Leadership Scores')\n",
    "plt.legend(labels=labels)"
   ]
  },
  {
   "cell_type": "code",
   "execution_count": 26,
   "metadata": {},
   "outputs": [
    {
     "data": {
      "text/plain": [
       "<matplotlib.legend.Legend at 0x1a1b1a35c0>"
      ]
     },
     "execution_count": 26,
     "metadata": {},
     "output_type": "execute_result"
    },
    {
     "data": {
      "image/png": "[encoded data removed]",
      "text/plain": [
       "<Figure size 432x288 with 1 Axes>"
      ]
     },
     "metadata": {},
     "output_type": "display_data"
    }
   ],
   "source": [
    "fig, ax = plt.subplots()\n",
    "plt.scatter(ct['bs1'], ct['ct_sum'], alpha=0.5)\n",
    "plt.axhline(y=avg[2], color='g', linestyle='-')\n",
    "plt.ylim(5, 25)\n",
    "plt.xlim(-1, 30)\n",
    "labels = [\"Average of Non-Boy Scouts\"]\n",
    "ax.set_xlabel('# of years in Boy Scouts')\n",
    "ax.set_ylabel('Citizenship Scores')\n",
    "plt.legend(labels=labels)"
   ]
  },
  {
   "cell_type": "code",
   "execution_count": 27,
   "metadata": {},
   "outputs": [
    {
     "data": {
      "text/plain": [
       "<matplotlib.legend.Legend at 0x1a1baa1be0>"
      ]
     },
     "execution_count": 27,
     "metadata": {},
     "output_type": "execute_result"
    },
    {
     "data": {
      "image/png": "[encoded data removed]",
      "text/plain": [
       "<Figure size 432x288 with 1 Axes>"
      ]
     },
     "metadata": {},
     "output_type": "display_data"
    }
   ],
   "source": [
    "fig, ax = plt.subplots()\n",
    "plt.scatter(c['bs1'], c['c_sum'], alpha=0.5)\n",
    "plt.axhline(y=avg[1], color='g', linestyle='-')\n",
    "plt.ylim(5, 25)\n",
    "plt.xlim(-1, 30)\n",
    "labels = [\"Average of Non-Boy Scouts\"]\n",
    "ax.set_xlabel('# of years in Boy Scouts')\n",
    "ax.set_ylabel('Character Decelopment Scores')\n",
    "plt.legend(labels=labels)"
   ]
  },
  {
   "cell_type": "code",
   "execution_count": 28,
   "metadata": {
    "scrolled": true
   },
   "outputs": [
    {
     "data": {
      "text/plain": [
       "<matplotlib.legend.Legend at 0x1a1bb73e48>"
      ]
     },
     "execution_count": 28,
     "metadata": {},
     "output_type": "execute_result"
    },
    {
     "data": {
      "image/png": "[encoded data removed]",
      "text/plain": [
       "<Figure size 432x288 with 1 Axes>"
      ]
     },
     "metadata": {},
     "output_type": "display_data"
    }
   ],
   "source": [
    "fig, ax = plt.subplots()\n",
    "plt.scatter(f['bs1'], f['f_sum'], alpha=0.5)\n",
    "plt.axhline(y=avg[3], color='g', linestyle='-')\n",
    "plt.ylim(5, 25)\n",
    "plt.xlim(-1, 30)\n",
    "labels = [\"Average of Non-Boy Scouts\"]\n",
    "ax.set_xlabel('# of years in Boy Scouts')\n",
    "ax.set_ylabel('Fitness Scores')\n",
    "plt.legend(labels=labels)"
   ]
  },
  {
   "cell_type": "code",
   "execution_count": 29,
   "metadata": {},
   "outputs": [
    {
     "data": {
      "text/plain": [
       "<matplotlib.legend.Legend at 0x1a1bc4ca58>"
      ]
     },
     "execution_count": 29,
     "metadata": {},
     "output_type": "execute_result"
    },
    {
     "data": {
      "image/png": "[encoded data removed]",
      "text/plain": [
       "<Figure size 432x288 with 1 Axes>"
      ]
     },
     "metadata": {},
     "output_type": "display_data"
    }
   ],
   "source": [
    "fig, ax = plt.subplots()\n",
    "plt.ylim(30, 100)\n",
    "plt.xlim(-1, 30)\n",
    "plt.scatter(t['bs1'], t['total'], alpha=0.5)\n",
    "plt.axhline(y=avg[4], color='g', linestyle='-')\n",
    "labels = [\"Average of Non-Boy Scouts\"]\n",
    "ax.set_xlabel('# of years in Boy Scouts')\n",
    "ax.set_ylabel('Total Scores')\n",
    "plt.legend(labels=labels)"
   ]
  },
  {
   "cell_type": "code",
   "execution_count": 30,
   "metadata": {},
   "outputs": [],
   "source": [
    "teamwork = ['l1_1','l1_2','l1_3','l1_4','l1_5','l1_6']\n",
    "takeroles = ['l2_1','l2_2','l2_3','l2_4']\n",
    "public = ['l3_1','l3_2','l3_3','l3_4']\n",
    "goal = ['l4_1','l4_2','l4_3','l4_4']\n",
    "\n",
    "selfconfidence = ['c2_1','c2_2','c2_3','l2_4']"
   ]
  },
  {
   "cell_type": "markdown",
   "metadata": {},
   "source": [
    "## Key Impact Analysis"
   ]
  },
  {
   "cell_type": "code",
   "execution_count": 31,
   "metadata": {},
   "outputs": [
    {
     "data": {
      "text/html": [
       "<div>\n",
       "<style scoped>\n",
       "    .dataframe tbody tr th:only-of-type {\n",
       "        vertical-align: middle;\n",
       "    }\n",
       "\n",
       "    .dataframe tbody tr th {\n",
       "        vertical-align: top;\n",
       "    }\n",
       "\n",
       "    .dataframe thead th {\n",
       "        text-align: right;\n",
       "    }\n",
       "</style>\n",
       "<table border=\"1\" class=\"dataframe\">\n",
       "  <thead>\n",
       "    <tr style=\"text-align: right;\">\n",
       "      <th></th>\n",
       "      <th>bs</th>\n",
       "      <th>bs1</th>\n",
       "      <th>bs2</th>\n",
       "      <th>bs2_1</th>\n",
       "      <th>bs3</th>\n",
       "      <th>bs4_1</th>\n",
       "      <th>c10_1</th>\n",
       "      <th>c1_1</th>\n",
       "      <th>c2_1</th>\n",
       "      <th>c2_2</th>\n",
       "      <th>...</th>\n",
       "      <th>f_total</th>\n",
       "      <th>l_sum</th>\n",
       "      <th>c_sum</th>\n",
       "      <th>ct_sum</th>\n",
       "      <th>f_sum</th>\n",
       "      <th>l_avg</th>\n",
       "      <th>c_avg</th>\n",
       "      <th>ct_avg</th>\n",
       "      <th>f_avg</th>\n",
       "      <th>total</th>\n",
       "    </tr>\n",
       "  </thead>\n",
       "  <tbody>\n",
       "    <tr>\n",
       "      <th>0</th>\n",
       "      <td>0</td>\n",
       "      <td>0</td>\n",
       "      <td>0</td>\n",
       "      <td>0</td>\n",
       "      <td>0</td>\n",
       "      <td>0</td>\n",
       "      <td>0.67</td>\n",
       "      <td>0.67</td>\n",
       "      <td>0.67</td>\n",
       "      <td>0.50</td>\n",
       "      <td>...</td>\n",
       "      <td>11</td>\n",
       "      <td>12.48</td>\n",
       "      <td>19.24</td>\n",
       "      <td>12.67</td>\n",
       "      <td>6.25</td>\n",
       "      <td>17.33</td>\n",
       "      <td>18.50</td>\n",
       "      <td>12.18</td>\n",
       "      <td>14.20</td>\n",
       "      <td>50.64</td>\n",
       "    </tr>\n",
       "    <tr>\n",
       "      <th>1</th>\n",
       "      <td>1</td>\n",
       "      <td>10</td>\n",
       "      <td>2</td>\n",
       "      <td>1</td>\n",
       "      <td>0</td>\n",
       "      <td>5</td>\n",
       "      <td>0.67</td>\n",
       "      <td>0.67</td>\n",
       "      <td>1.00</td>\n",
       "      <td>0.50</td>\n",
       "      <td>...</td>\n",
       "      <td>11</td>\n",
       "      <td>14.65</td>\n",
       "      <td>21.16</td>\n",
       "      <td>19.43</td>\n",
       "      <td>7.25</td>\n",
       "      <td>20.35</td>\n",
       "      <td>20.35</td>\n",
       "      <td>18.68</td>\n",
       "      <td>16.48</td>\n",
       "      <td>62.49</td>\n",
       "    </tr>\n",
       "    <tr>\n",
       "      <th>2</th>\n",
       "      <td>1</td>\n",
       "      <td>10</td>\n",
       "      <td>2</td>\n",
       "      <td>2</td>\n",
       "      <td>0</td>\n",
       "      <td>5</td>\n",
       "      <td>0.67</td>\n",
       "      <td>0.67</td>\n",
       "      <td>1.00</td>\n",
       "      <td>0.50</td>\n",
       "      <td>...</td>\n",
       "      <td>11</td>\n",
       "      <td>14.65</td>\n",
       "      <td>21.16</td>\n",
       "      <td>19.43</td>\n",
       "      <td>7.25</td>\n",
       "      <td>20.35</td>\n",
       "      <td>20.35</td>\n",
       "      <td>18.68</td>\n",
       "      <td>16.48</td>\n",
       "      <td>62.49</td>\n",
       "    </tr>\n",
       "    <tr>\n",
       "      <th>3</th>\n",
       "      <td>1</td>\n",
       "      <td>4</td>\n",
       "      <td>1</td>\n",
       "      <td>1</td>\n",
       "      <td>0</td>\n",
       "      <td>4</td>\n",
       "      <td>1.00</td>\n",
       "      <td>0.50</td>\n",
       "      <td>0.83</td>\n",
       "      <td>0.33</td>\n",
       "      <td>...</td>\n",
       "      <td>11</td>\n",
       "      <td>12.02</td>\n",
       "      <td>21.47</td>\n",
       "      <td>20.65</td>\n",
       "      <td>6.50</td>\n",
       "      <td>16.69</td>\n",
       "      <td>20.64</td>\n",
       "      <td>19.86</td>\n",
       "      <td>14.77</td>\n",
       "      <td>60.64</td>\n",
       "    </tr>\n",
       "    <tr>\n",
       "      <th>4</th>\n",
       "      <td>1</td>\n",
       "      <td>8</td>\n",
       "      <td>3</td>\n",
       "      <td>1</td>\n",
       "      <td>1</td>\n",
       "      <td>5</td>\n",
       "      <td>0.67</td>\n",
       "      <td>0.83</td>\n",
       "      <td>1.00</td>\n",
       "      <td>0.83</td>\n",
       "      <td>...</td>\n",
       "      <td>11</td>\n",
       "      <td>11.98</td>\n",
       "      <td>20.57</td>\n",
       "      <td>18.81</td>\n",
       "      <td>8.24</td>\n",
       "      <td>16.64</td>\n",
       "      <td>19.78</td>\n",
       "      <td>18.09</td>\n",
       "      <td>18.73</td>\n",
       "      <td>59.60</td>\n",
       "    </tr>\n",
       "  </tbody>\n",
       "</table>\n",
       "<p>5 rows × 101 columns</p>\n",
       "</div>"
      ],
      "text/plain": [
       "   bs  bs1  bs2  bs2_1  bs3  bs4_1  c10_1  c1_1  c2_1  c2_2  ...    f_total  \\\n",
       "0   0    0    0      0    0      0   0.67  0.67  0.67  0.50  ...         11   \n",
       "1   1   10    2      1    0      5   0.67  0.67  1.00  0.50  ...         11   \n",
       "2   1   10    2      2    0      5   0.67  0.67  1.00  0.50  ...         11   \n",
       "3   1    4    1      1    0      4   1.00  0.50  0.83  0.33  ...         11   \n",
       "4   1    8    3      1    1      5   0.67  0.83  1.00  0.83  ...         11   \n",
       "\n",
       "   l_sum  c_sum  ct_sum  f_sum  l_avg  c_avg  ct_avg  f_avg  total  \n",
       "0  12.48  19.24   12.67   6.25  17.33  18.50   12.18  14.20  50.64  \n",
       "1  14.65  21.16   19.43   7.25  20.35  20.35   18.68  16.48  62.49  \n",
       "2  14.65  21.16   19.43   7.25  20.35  20.35   18.68  16.48  62.49  \n",
       "3  12.02  21.47   20.65   6.50  16.69  20.64   19.86  14.77  60.64  \n",
       "4  11.98  20.57   18.81   8.24  16.64  19.78   18.09  18.73  59.60  \n",
       "\n",
       "[5 rows x 101 columns]"
      ]
     },
     "execution_count": 31,
     "metadata": {},
     "output_type": "execute_result"
    }
   ],
   "source": [
    "df0 = pd.read_csv(\"BSA_data.csv\")\n",
    "df0.head()"
   ]
  },
  {
   "cell_type": "code",
   "execution_count": 34,
   "metadata": {},
   "outputs": [
    {
     "name": "stdout",
     "output_type": "stream",
     "text": [
      "   AVG(ct_avg)  bs\n",
      "0    12.994889   0\n",
      "1    16.060215   1\n",
      "   AVG(l_avg)  bs\n",
      "0   15.344667   0\n",
      "1   15.884194   1\n",
      "   AVG(c_avg)  bs\n",
      "0   14.852222   0\n",
      "1   18.300860   1\n",
      "   AVG(f_avg)  bs\n",
      "0   17.244444   0\n",
      "1   18.621613   1\n",
      "   AVG(total)  bs\n",
      "0   47.595111   0\n",
      "1   55.364194   1\n"
     ]
    }
   ],
   "source": [
    "# Scouts and Non-Scouts score comparison in four key impacts\n",
    "df0_ct = sqldf(\"SELECT AVG(ct_avg), bs FROM df0 GROUP BY bs\")\n",
    "df0_l = sqldf(\"SELECT AVG(l_avg), bs FROM df0 GROUP BY bs\")\n",
    "df0_c = sqldf(\"SELECT AVG(c_avg), bs FROM df0 GROUP BY bs\")\n",
    "df0_f = sqldf(\"SELECT AVG(f_avg), bs FROM df0 GROUP BY bs\")\n",
    "df0_total = sqldf(\"SELECT AVG(total), bs FROM df0 GROUP BY bs\")\n",
    "print(df0_ct)\n",
    "print(df0_l)\n",
    "print(df0_c)\n",
    "print(df0_f)\n",
    "print(df0_total)"
   ]
  },
  {
   "cell_type": "code",
   "execution_count": 35,
   "metadata": {},
   "outputs": [
    {
     "name": "stdout",
     "output_type": "stream",
     "text": [
      "   AVG(ct_avg)  bs2_1\n",
      "0    12.994889      0\n",
      "1    16.070208      1\n",
      "2    15.814595      2\n",
      "3    17.136250      3\n",
      "   AVG(l_avg)  bs2_1\n",
      "0   15.344667      0\n",
      "1   15.838958      1\n",
      "2   15.851622      2\n",
      "3   16.306250      3\n",
      "   AVG(c_avg)  bs2_1\n",
      "0   14.852222      0\n",
      "1   18.214792      1\n",
      "2   18.100811      2\n",
      "3   19.742500      3\n",
      "   AVG(f_avg)  bs2_1\n",
      "0   17.244444      0\n",
      "1   18.477917      1\n",
      "2   18.689459      2\n",
      "3   19.170000      3\n",
      "   AVG(total)  bs2_1\n",
      "0   47.595111      0\n",
      "1   55.189375      1\n",
      "2   54.907297      2\n",
      "3   58.526250      3\n"
     ]
    }
   ],
   "source": [
    "# Non-Scouts and Cub/Boy/Venturing Scouts score comparison in four key impacts\n",
    "df0_ct_p = sqldf(\"SELECT AVG(ct_avg), bs2_1 FROM df0 GROUP BY bs2_1\")\n",
    "df0_l_p = sqldf(\"SELECT AVG(l_avg), bs2_1 FROM df0 GROUP BY bs2_1\")\n",
    "df0_c_p = sqldf(\"SELECT AVG(c_avg), bs2_1 FROM df0 GROUP BY bs2_1\")\n",
    "df0_f_p = sqldf(\"SELECT AVG(f_avg), bs2_1 FROM df0 GROUP BY bs2_1\")\n",
    "df0_total_p = sqldf(\"SELECT AVG(total), bs2_1 FROM df0 GROUP BY bs2_1\")\n",
    "print(df0_ct_p)\n",
    "print(df0_l_p)\n",
    "print(df0_c_p)\n",
    "print(df0_f_p)\n",
    "print(df0_total_p)"
   ]
  },
  {
   "cell_type": "code",
   "execution_count": 36,
   "metadata": {},
   "outputs": [
    {
     "name": "stdout",
     "output_type": "stream",
     "text": [
      "       avg_ct  bs1\n",
      "0   13.530556    0\n",
      "1   13.070000    1\n",
      "2   17.682000    2\n",
      "3   13.064286    3\n",
      "4   17.753333    4\n",
      "5   13.203333    5\n",
      "6   12.246667    6\n",
      "7   18.658000    7\n",
      "8   16.553636    8\n",
      "9   16.510000    9\n",
      "10  17.162000   10\n",
      "11  16.350000   11\n",
      "12  13.865000   12\n",
      "13  19.490000   14\n",
      "14  19.390000   17\n",
      "15  18.030000   18\n",
      "16  17.750000   38\n",
      "        avg_l  bs1\n",
      "0   15.212407    0\n",
      "1   11.600000    1\n",
      "2   16.710000    2\n",
      "3   14.617143    3\n",
      "4   17.123333    4\n",
      "5   14.721667    5\n",
      "6   12.103333    6\n",
      "7   16.602000    7\n",
      "8   16.330909    8\n",
      "9   17.150000    9\n",
      "10  17.940000   10\n",
      "11  16.111429   11\n",
      "12  16.865000   12\n",
      "13  20.080000   14\n",
      "14  17.560000   17\n",
      "15  14.130000   18\n",
      "16  12.970000   38\n",
      "        avg_c  bs1\n",
      "0   15.452407    0\n",
      "1   16.400000    1\n",
      "2   19.752000    2\n",
      "3   15.402857    3\n",
      "4   19.916667    4\n",
      "5   14.985833    5\n",
      "6   12.003333    6\n",
      "7   20.540000    7\n",
      "8   19.372727    8\n",
      "9   18.070000    9\n",
      "10  20.102000   10\n",
      "11  19.070000   11\n",
      "12  15.770000   12\n",
      "13  21.940000   14\n",
      "14  22.900000   17\n",
      "15  20.880000   18\n",
      "16  18.580000   38\n",
      "        avg_f  bs1\n",
      "0   17.391296    0\n",
      "1   17.050000    1\n",
      "2   19.746000    2\n",
      "3   17.780000    3\n",
      "4   17.136667    4\n",
      "5   17.016667    5\n",
      "6   12.170000    6\n",
      "7   19.453000    7\n",
      "8   19.930000    8\n",
      "9   17.975000    9\n",
      "10  19.946000   10\n",
      "11  22.394286   11\n",
      "12  17.590000   12\n",
      "13  17.430000   14\n",
      "14  20.610000   17\n",
      "15  16.250000   18\n",
      "16  16.680000   38\n"
     ]
    }
   ],
   "source": [
    "# # of yrs membership vs. four impact scores\n",
    "df0_ct_y = sqldf(\"SELECT AVG(ct_avg) AS avg_ct, bs1 FROM df0 GROUP BY bs1\")\n",
    "df0_l_y = sqldf(\"SELECT AVG(l_avg) AS avg_l, bs1 FROM df0 GROUP BY bs1\")\n",
    "df0_c_y = sqldf(\"SELECT AVG(c_avg) AS avg_c, bs1 FROM df0 GROUP BY bs1\")\n",
    "df0_f_y = sqldf(\"SELECT AVG(f_avg) AS avg_f, bs1 FROM df0 GROUP BY bs1\")\n",
    "print(df0_ct_y)\n",
    "print(df0_l_y)\n",
    "print(df0_c_y)\n",
    "print(df0_f_y)"
   ]
  },
  {
   "cell_type": "code",
   "execution_count": 37,
   "metadata": {},
   "outputs": [
    {
     "data": {
      "text/plain": [
       "Text(18.05228913787737, 9, 'mean score for Fitness/Wellbeing = 18.03')"
      ]
     },
     "execution_count": 37,
     "metadata": {},
     "output_type": "execute_result"
    },
    {
     "data": {
      "image/png": "[encoded data removed]",
      "text/plain": [
       "<Figure size 1728x864 with 4 Axes>"
      ]
     },
     "metadata": {},
     "output_type": "display_data"
    }
   ],
   "source": [
    "plt.style.use(\"ggplot\")\n",
    "fig, ((ax0, ax1), (ax2, ax3)) = plt.subplots(nrows = 2, ncols = 2, figsize = (24,12), sharey = False)\n",
    "fig.suptitle(\"Years of Membership and Key Impact Scores\")\n",
    "\n",
    "df0_ct_y.plot(kind = \"barh\", x = \"bs1\", y = \"avg_ct\", color = \"r\", ax = ax0)\n",
    "ax0.set(title = \"Years of Membership and Citizenship Scores\", xlabel = \"Years of membership\", ylabel = \"Citizenship Score\")\n",
    "mean_df0_ct_y = df0_ct_y.avg_ct.mean()\n",
    "ax0.axvline(mean_df0_ct_y, color = \"b\", linestyle = \"--\")\n",
    "text0 = \"mean score for Citizenship = %0.2f\"%mean_df0_ct_y\n",
    "ax0.annotate(text0, xy = (mean_df0_ct_y+0.02,9))\n",
    "\n",
    "df0_l_y.plot(kind = \"barh\", x = \"bs1\", y = \"avg_l\", color = \"r\", ax = ax1)\n",
    "ax1.set(title = \"Years of Membership and Leadership Scores\", xlabel = \"Years of membership\", ylabel = \"Leadership Score\")\n",
    "mean_df0_l_y = df0_l_y.avg_l.mean()\n",
    "ax1.axvline(mean_df0_l_y, color = \"b\", linestyle = \"--\")\n",
    "text1 = \"mean score for Leadership = %0.2f\"%mean_df0_l_y\n",
    "ax1.annotate(text1, xy = (mean_df0_l_y+0.02,9))\n",
    "\n",
    "df0_c_y.plot(kind = \"barh\", x = \"bs1\", y = \"avg_c\", color = \"r\", ax = ax2)\n",
    "ax2.set(title = \"Years of Membership and Character Development Scores\", xlabel = \"Years of membership\", ylabel = \"Character Development Score\")\n",
    "mean_df0_c_y = df0_c_y.avg_c.mean()\n",
    "ax2.axvline(mean_df0_c_y, color = \"b\", linestyle = \"--\")\n",
    "text2 = \"mean score for Character Development = %0.2f\"%mean_df0_c_y\n",
    "ax2.annotate(text2, xy = (mean_df0_c_y+0.02,9))\n",
    "\n",
    "df0_f_y.plot(kind = \"barh\", x = \"bs1\", y = \"avg_f\", color = \"r\", ax = ax3)\n",
    "ax3.set(title = \"Years of Membership and Fitness/Wellbeing Scores\", xlabel = \"Years of membership\", ylabel = \"Fitness/Wellbeing Score\")\n",
    "mean_df0_f_y = df0_f_y.avg_f.mean()\n",
    "ax3.axvline(mean_df0_f_y, color = \"b\", linestyle = \"--\")\n",
    "text3 = \"mean score for Fitness/Wellbeing = %0.2f\"%mean_df0_f_y\n",
    "ax3.annotate(text3, xy = (mean_df0_f_y+0.02,9))"
   ]
  },
  {
   "cell_type": "code",
   "execution_count": null,
   "metadata": {},
   "outputs": [],
   "source": []
  }
 ],
 "metadata": {
  "kernelspec": {
   "display_name": "Python 3",
   "language": "python",
   "name": "python3"
  },
  "language_info": {
   "codemirror_mode": {
    "name": "ipython",
    "version": 3
   },
   "file_extension": ".py",
   "mimetype": "text/x-python",
   "name": "python",
   "nbconvert_exporter": "python",
   "pygments_lexer": "ipython3",
   "version": "3.7.1"
  }
 },
 "nbformat": 4,
 "nbformat_minor": 2
}
